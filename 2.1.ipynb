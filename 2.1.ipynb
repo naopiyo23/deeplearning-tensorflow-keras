{
 "cells": [
  {
   "cell_type": "markdown",
   "metadata": {},
   "source": [
    "# 2.1 初めてのニューラルネットワーク"
   ]
  },
  {
   "cell_type": "markdown",
   "metadata": {},
   "source": [
    "## mnistデータセットの読み込み"
   ]
  },
  {
   "cell_type": "code",
   "execution_count": 119,
   "metadata": {},
   "outputs": [],
   "source": [
    "from keras.datasets import mnist\n",
    "(train_images, train_labels), (test_images, test_labels) = mnist.load_data()"
   ]
  },
  {
   "cell_type": "code",
   "execution_count": 120,
   "metadata": {},
   "outputs": [],
   "source": [
    "original_test_images = test_images\n",
    "original_test_labels = test_labels"
   ]
  },
  {
   "cell_type": "code",
   "execution_count": 121,
   "metadata": {},
   "outputs": [
    {
     "data": {
      "text/plain": [
       "(60000, 28, 28)"
      ]
     },
     "execution_count": 121,
     "metadata": {},
     "output_type": "execute_result"
    }
   ],
   "source": [
    "# .shape 配列のサイズ　定義してある配列が何行何列なのか\n",
    "train_images.shape"
   ]
  },
  {
   "cell_type": "code",
   "execution_count": 122,
   "metadata": {},
   "outputs": [
    {
     "data": {
      "text/plain": [
       "60000"
      ]
     },
     "execution_count": 122,
     "metadata": {},
     "output_type": "execute_result"
    }
   ],
   "source": [
    "# データ数\n",
    "len(train_images)"
   ]
  },
  {
   "cell_type": "code",
   "execution_count": 123,
   "metadata": {},
   "outputs": [
    {
     "data": {
      "text/plain": [
       "array([5, 0, 4, ..., 5, 6, 8], dtype=uint8)"
      ]
     },
     "execution_count": 123,
     "metadata": {},
     "output_type": "execute_result"
    }
   ],
   "source": [
    "# ラベル（1～9）\n",
    "train_labels"
   ]
  },
  {
   "cell_type": "code",
   "execution_count": 172,
   "metadata": {},
   "outputs": [
    {
     "data": {
      "image/png": "[encoded data removed]",
      "text/plain": [
       "<matplotlib.figure.Figure at 0x16f5cff5da0>"
      ]
     },
     "metadata": {},
     "output_type": "display_data"
    }
   ],
   "source": [
    "import matplotlib.pyplot as plt\n",
    "#MNISTデータの表示(学習データの最初の100枚を表示）\n",
    "fig = plt.figure(figsize=(20, 20))\n",
    "\n",
    "for i in range(20):\n",
    "    ax = fig.add_subplot(10, 10, i + 1, xticks=[], yticks=[])\n",
    "    ax.imshow(train_images[i].reshape((28, 28)), cmap=\"gray\")"
   ]
  },
  {
   "cell_type": "markdown",
   "metadata": {},
   "source": [
    "## ニューラスネットワークのアーキテクチャ"
   ]
  },
  {
   "cell_type": "code",
   "execution_count": 125,
   "metadata": {},
   "outputs": [],
   "source": [
    "from keras import models\n",
    "from keras import layers\n",
    "\n",
    "network = models.Sequential()\n",
    "network.add(layers.Dense(512, activation='relu', input_shape=(28*28, )))\n",
    "network.add(layers.Dense(10, activation='softmax'))"
   ]
  },
  {
   "cell_type": "markdown",
   "metadata": {},
   "source": [
    "このニューラルネットは、２つの密に結合された層（Dence）で構成されている。⇛全結合層\n",
    "\n",
    "最後の層は10個のユニットからなるソフトマックス層であり、合計すると１になる10個の確率スコアを含む配列を返す。\n",
    "\n",
    "ニューラルネットを訓練する準備を整えるには、コンパイルステップとして以下の要素を選択する必要がある。"
   ]
  },
  {
   "cell_type": "markdown",
   "metadata": {},
   "source": [
    "①損失関数\n",
    "\n",
    "訓練データでのネットワークの性能をどのように評価するのか、そしてネットワークを正しい方向にどのように向かわせるのかを決める手法\n",
    "\n",
    "②オプティマイザ\n",
    "\n",
    "与えられたデータを損失関数に基づいてネットワークが自身を更新するメカニズム\n",
    "\n",
    "③訓練とテストを監視するための指標\n",
    "\n",
    "ここでは正解率のみを考慮する"
   ]
  },
  {
   "cell_type": "code",
   "execution_count": 126,
   "metadata": {},
   "outputs": [],
   "source": [
    "# コンパイルステップ\n",
    "network.compile(optimizer='rmsprop',\n",
    "               loss='categorical_crossentropy',\n",
    "               metrics=['accuracy'])"
   ]
  },
  {
   "cell_type": "markdown",
   "metadata": {},
   "source": [
    "画像データの前処理として、データの形状を変換する。具体的には、すべての値を0,1の区間に収まるようスケーリングする。\n",
    "\n",
    "今回使用するデータは型がunit8、形状が(60000,28,28)の配列に格納されている。この配列には0,255の区間の値が格納されている。\n",
    "\n",
    "このデータを型がfloat32、形状が(60000, 28*28)で0~1の値が含まれた配列に変換する。"
   ]
  },
  {
   "cell_type": "code",
   "execution_count": 128,
   "metadata": {},
   "outputs": [],
   "source": [
    "# 画像データの準備\n",
    "train_images = train_images.reshape((60000, 28*28, ))\n",
    "train_images = train_images.astype('float32') / 255\n",
    "\n",
    "test_images = test_images.reshape((10000, 28*28, ))\n",
    "test_images = test_images.astype('float32') / 255"
   ]
  },
  {
   "cell_type": "code",
   "execution_count": 130,
   "metadata": {},
   "outputs": [],
   "source": [
    "# ラベルをカテゴリ値でエンコード\n",
    "from keras.utils import to_categorical\n",
    "\n",
    "train_labels = to_categorical(train_labels)\n",
    "test_labels = to_categorical(test_labels)"
   ]
  },
  {
   "cell_type": "code",
   "execution_count": 131,
   "metadata": {},
   "outputs": [
    {
     "name": "stdout",
     "output_type": "stream",
     "text": [
      "Epoch 1/5\n",
      "60000/60000 [==============================] - 8s 128us/step - loss: 0.2555 - acc: 0.9264\n",
      "Epoch 2/5\n",
      "60000/60000 [==============================] - 7s 114us/step - loss: 0.1030 - acc: 0.9698\n",
      "Epoch 3/5\n",
      "60000/60000 [==============================] - 7s 118us/step - loss: 0.0682 - acc: 0.9798\n",
      "Epoch 4/5\n",
      "60000/60000 [==============================] - 7s 114us/step - loss: 0.0498 - acc: 0.9847\n",
      "Epoch 5/5\n",
      "60000/60000 [==============================] - 7s 112us/step - loss: 0.0369 - acc: 0.9889\n"
     ]
    },
    {
     "data": {
      "text/plain": [
       "<keras.callbacks.History at 0x16f58573da0>"
      ]
     },
     "execution_count": 131,
     "metadata": {},
     "output_type": "execute_result"
    }
   ],
   "source": [
    "# 適合\n",
    "network.fit(train_images, train_labels, epochs=5, batch_size=128)"
   ]
  },
  {
   "cell_type": "code",
   "execution_count": 132,
   "metadata": {},
   "outputs": [
    {
     "name": "stdout",
     "output_type": "stream",
     "text": [
      "10000/10000 [==============================] - 1s 75us/step\n",
      "0.9795\n"
     ]
    }
   ],
   "source": [
    "# 正解率\n",
    "test_loss, test_acc = network.evaluate(test_images, test_labels)\n",
    "print(test_acc)"
   ]
  },
  {
   "cell_type": "code",
   "execution_count": 177,
   "metadata": {},
   "outputs": [],
   "source": [
    "## 結果の確認\n",
    "import sklearn.metrics\n",
    "import matplotlib.pyplot as plt\n",
    "import numpy as np\n",
    "\n",
    "# テストデータで予測\n",
    "predicted_classes = network.predict_classes(test_images)\n",
    "pred = np.equal(predicted_classes, original_test_labels)\n",
    "\n",
    "# 誤答\n",
    "mispred = np.where(pred == False)\n",
    "\n",
    "# 正解\n",
    "corpred = np.where(pred == True)"
   ]
  },
  {
   "cell_type": "code",
   "execution_count": 138,
   "metadata": {},
   "outputs": [
    {
     "name": "stdout",
     "output_type": "stream",
     "text": [
      "[[ 968    0    1    1    0    0    4    2    4    0]\n",
      " [   0 1125    4    0    0    1    2    0    3    0]\n",
      " [   1    1 1011    3    1    0    3    7    5    0]\n",
      " [   0    0    6  997    0    0    0    4    3    0]\n",
      " [   2    0    1    1  960    0    4    6    1    7]\n",
      " [   2    0    0   15    0  866    2    1    5    1]\n",
      " [   3    3    0    1    1    3  945    0    2    0]\n",
      " [   0    6    7    1    0    0    0 1013    1    0]\n",
      " [   2    0    4    4    4    2    2    5  948    3]\n",
      " [   3    6    0   10   11    1    1   14    1  962]]\n"
     ]
    }
   ],
   "source": [
    "# 混同行列を表示\n",
    "print(sklearn.metrics.confusion_matrix(original_test_labels, predicted_classes))"
   ]
  },
  {
   "cell_type": "markdown",
   "metadata": {},
   "source": [
    "結果概要を確認するために混同行列を表示する。縦の列が本来の値で、横の行がニューラルネットによる推測値である。対角線上の値が正解数を意味する。\n",
    "6, 8, 9などの丸を含む数字は苦手？、という印象。"
   ]
  },
  {
   "cell_type": "code",
   "execution_count": 178,
   "metadata": {},
   "outputs": [
    {
     "data": {
      "image/png": "[encoded data removed]",
      "text/plain": [
       "<matplotlib.figure.Figure at 0x16f1c860cc0>"
      ]
     },
     "metadata": {},
     "output_type": "display_data"
    }
   ],
   "source": [
    "# 予測に成功したテストデータを表示。青字が正答、赤字が予測値\n",
    "j = 0\n",
    "plt.figure(figsize=(20, 20))\n",
    "\n",
    "for i in corpred[0][0:20]:\n",
    "    j += 1\n",
    "    plt.subplot(10, 10, j, xticks=[], yticks=[])\n",
    "    #plt.imshow(original_test_images[i], cmap=plt.cm.binary)\n",
    "    plt.imshow(original_test_images[i],cmap=\"gray\")\n",
    "    plt.text(-5, 5, original_test_labels[i], color=\"blue\", fontsize=18)\n",
    "    plt.text(-5, 25, predicted_classes[i], color=\"red\", fontsize=18)\n",
    "\n",
    "plt.show()"
   ]
  },
  {
   "cell_type": "code",
   "execution_count": 176,
   "metadata": {},
   "outputs": [
    {
     "data": {
      "image/png": "[encoded data removed]",
      "text/plain": [
       "<matplotlib.figure.Figure at 0x16f5caff2e8>"
      ]
     },
     "metadata": {},
     "output_type": "display_data"
    }
   ],
   "source": [
    "# 予測に失敗したテストデータを表示。青字が正答、赤字が予測値（誤答）\n",
    "j = 0\n",
    "plt.figure(figsize=(20, 20))\n",
    "\n",
    "for i in mispred[0][0:20]:\n",
    "    j += 1\n",
    "    plt.subplot(10, 10, j, xticks=[], yticks=[])\n",
    "    #plt.imshow(original_test_images[i], cmap=plt.cm.binary)\n",
    "    plt.imshow(original_test_images[i],cmap=\"gray\")\n",
    "    plt.text(-5, 5, original_test_labels[i], color=\"blue\", fontsize=18)\n",
    "    plt.text(-5, 25, predicted_classes[i], color=\"red\", fontsize=18)\n",
    "\n",
    "plt.show()"
   ]
  },
  {
   "cell_type": "code",
   "execution_count": 179,
   "metadata": {},
   "outputs": [],
   "source": [
    "# 間違えた画像（保存）\n",
    "import os\n",
    "IMAGE_PATH = 'error-images'\n",
    "if not os.path.exists(IMAGE_PATH):\n",
    "    os.mkdir(IMAGE_PATH)\n",
    "\n",
    "import numpy as np\n",
    "\n",
    "# Write error images\n",
    "for i, (p, y) in enumerate(zip(predictions, test_labels_bk)):\n",
    "    if p != y:\n",
    "        image = test_images_bk[i]*127.5 + 127.5 # [-1,1] --> [0,255]\n",
    "        img = Image.fromarray(image.reshape((image.shape[0], image.shape[1])).astype(np.uint8))\n",
    "        img.save(IMAGE_PATH+\"/{0}-c{1}-p{2}.png\".format(i, y, p)) # c=correct, p=predict"
   ]
  }
 ],
 "metadata": {
  "kernelspec": {
   "display_name": "Python 3",
   "language": "python",
   "name": "python3"
  }
 },
 "nbformat": 4,
 "nbformat_minor": 2
}
