{
 "cells": [
  {
   "cell_type": "markdown",
   "metadata": {},
   "source": [
    "# ニューラルネットワークでのデータ表現"
   ]
  },
  {
   "cell_type": "markdown",
   "metadata": {},
   "source": [
    "多次元のNumPy配列に格納されたデータはテンソルとも呼ばれる。一般に、機械学習システムはすべて、基本的なデータ構造としてテンソルを使用する。\n",
    "\n",
    "基本的に、テンソルはデータのコンテナ（入れ物）。行列は２次元のテンソルであり、テンソルとは、任意の数の次元に対して、行列を一般化したもの。\n",
    "\n",
    "参考：https://qiita.com/mucunwuxian/items/10cb0f014964446fa2a3"
   ]
  },
  {
   "cell_type": "markdown",
   "metadata": {},
   "source": [
    "## スカラー：０次元テンソル\n",
    "\n",
    "数値を一つしか含んでいないテンソルは、スカラーと呼ばれる。スカラーは「スカラーテンソル」「０次元テンソル」とも言う。\n",
    "numpyのfloat32型やfloat64型の数値はスカラーテンソルである。\n",
    "\n",
    "numpyでテンソル軸の数を表示するには、ndim属性を使用する。スカラーテンソルの軸は0となる。テンソルの軸の数は階級（rank）とも呼ばれる。"
   ]
  },
  {
   "cell_type": "code",
   "execution_count": 8,
   "metadata": {},
   "outputs": [
    {
     "data": {
      "text/plain": [
       "array(12)"
      ]
     },
     "execution_count": 8,
     "metadata": {},
     "output_type": "execute_result"
    }
   ],
   "source": [
    "import numpy as np\n",
    "x = np.array(12)\n",
    "x"
   ]
  },
  {
   "cell_type": "code",
   "execution_count": 9,
   "metadata": {},
   "outputs": [
    {
     "data": {
      "text/plain": [
       "0"
      ]
     },
     "execution_count": 9,
     "metadata": {},
     "output_type": "execute_result"
    }
   ],
   "source": [
    "x.ndim"
   ]
  },
  {
   "cell_type": "markdown",
   "metadata": {},
   "source": [
    "## ベクトル：１次元テンソル\n",
    "数値の配列はベクトルと呼ばれる。ベクトルは１次元テンソルであり、軸は一つ。"
   ]
  },
  {
   "cell_type": "code",
   "execution_count": 10,
   "metadata": {},
   "outputs": [
    {
     "data": {
      "text/plain": [
       "array([ 2,  6, 22, 67])"
      ]
     },
     "execution_count": 10,
     "metadata": {},
     "output_type": "execute_result"
    }
   ],
   "source": [
    "x = np.array([2,6,22,67])\n",
    "x"
   ]
  },
  {
   "cell_type": "code",
   "execution_count": 11,
   "metadata": {},
   "outputs": [
    {
     "data": {
      "text/plain": [
       "1"
      ]
     },
     "execution_count": 11,
     "metadata": {},
     "output_type": "execute_result"
    }
   ],
   "source": [
    "x.ndim"
   ]
  },
  {
   "cell_type": "markdown",
   "metadata": {},
   "source": [
    "## 行列：２次元テンソル\n",
    "\n",
    "ベクトルの配列は行列。行列は行と列の２軸を持つ２次元テンソルである。"
   ]
  },
  {
   "cell_type": "code",
   "execution_count": 15,
   "metadata": {},
   "outputs": [
    {
     "data": {
      "text/plain": [
       "array([[ 2,  6, 22, 67],\n",
       "       [ 2,  4,  2,  1],\n",
       "       [11, 61,  5,  9]])"
      ]
     },
     "execution_count": 15,
     "metadata": {},
     "output_type": "execute_result"
    }
   ],
   "source": [
    "x = np.array([[2,6,22,67],\n",
    "            [2,4,2,1],\n",
    "            [11,61,5,9]])\n",
    "x"
   ]
  },
  {
   "cell_type": "code",
   "execution_count": 16,
   "metadata": {},
   "outputs": [
    {
     "data": {
      "text/plain": [
       "2"
      ]
     },
     "execution_count": 16,
     "metadata": {},
     "output_type": "execute_result"
    }
   ],
   "source": [
    "x.ndim"
   ]
  },
  {
   "cell_type": "markdown",
   "metadata": {},
   "source": [
    "## ３次元テンソルとより高次元のテンソル"
   ]
  },
  {
   "cell_type": "code",
   "execution_count": 17,
   "metadata": {},
   "outputs": [
    {
     "data": {
      "text/plain": [
       "array([[[ 2,  6, 22, 67],\n",
       "        [ 2,  4,  2,  1],\n",
       "        [11, 61,  5,  9]],\n",
       "\n",
       "       [[ 2,  6, 22, 67],\n",
       "        [ 2,  4,  2,  1],\n",
       "        [11, 61,  5,  9]]])"
      ]
     },
     "execution_count": 17,
     "metadata": {},
     "output_type": "execute_result"
    }
   ],
   "source": [
    "x = np.array([[[2,6,22,67],\n",
    "            [2,4,2,1],\n",
    "            [11,61,5,9]],\n",
    "              [[2,6,22,67],\n",
    "            [2,4,2,1],\n",
    "            [11,61,5,9]]])\n",
    "x"
   ]
  },
  {
   "cell_type": "code",
   "execution_count": 19,
   "metadata": {},
   "outputs": [
    {
     "data": {
      "text/plain": [
       "3"
      ]
     },
     "execution_count": 19,
     "metadata": {},
     "output_type": "execute_result"
    }
   ],
   "source": [
    "x.ndim"
   ]
  },
  {
   "cell_type": "code",
   "execution_count": null,
   "metadata": {
    "collapsed": true
   },
   "outputs": [],
   "source": []
  }
 ],
 "metadata": {
  "kernelspec": {
   "display_name": "Python 3",
   "language": "python",
   "name": "python3"
  },
  "language_info": {
   "codemirror_mode": {
    "name": "ipython",
    "version": 3
   },
   "file_extension": ".py",
   "mimetype": "text/x-python",
   "name": "python",
   "nbconvert_exporter": "python",
   "pygments_lexer": "ipython3",
   "version": "3.6.3"
  }
 },
 "nbformat": 4,
 "nbformat_minor": 2
}
