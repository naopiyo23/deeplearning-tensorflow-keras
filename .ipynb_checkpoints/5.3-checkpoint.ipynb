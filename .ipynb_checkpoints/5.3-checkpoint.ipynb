{
 "cells": [
  {
   "cell_type": "markdown",
   "metadata": {},
   "source": [
    "# 学習済みのCNNを使用する"
   ]
  },
  {
   "cell_type": "markdown",
   "metadata": {},
   "source": [
    "小さな画像データセットを用いたディープラーニングに関して、効果的なアプローチとして学習済みのネットワークを利用することがある。学習済みのネットワークとは大規模なデータセットで訓練された後、保存されたネットワークであり、一般に大規模な画像分類タスクで作成される。\n",
    "\n",
    "学習済みのネットワークを使用する方法には、特徴抽出とファインチューニングの２つがある。"
   ]
  },
  {
   "cell_type": "markdown",
   "metadata": {},
   "source": [
    "## 特徴抽出"
   ]
  },
  {
   "cell_type": "markdown",
   "metadata": {},
   "source": [
    "特徴抽出とは、１つ前のネットワークが学習した表現に基づいて、新しいサンプルから興味深い特徴量を抽出する手法。それらの特徴量は、新しい分類器によって学習される。"
   ]
  },
  {
   "cell_type": "code",
   "execution_count": 3,
   "metadata": {},
   "outputs": [
    {
     "name": "stdout",
     "output_type": "stream",
     "text": [
      "Downloading data from https://github.com/fchollet/deep-learning-models/releases/download/v0.1/vgg16_weights_tf_dim_ordering_tf_kernels_notop.h5\n",
      "58892288/58889256 [==============================] - 18s 0us/step\n"
     ]
    }
   ],
   "source": [
    "# VGG16モデルの畳込みベースのインスタンス化\n",
    "from keras.applications import VGG16\n",
    "\n",
    "conv_base = VGG16(weights='imagenet',\n",
    "                 include_top=False,  # 全結合分類器を含めるかどうか\n",
    "                 input_shape=(150, 150, 3))"
   ]
  },
  {
   "cell_type": "code",
   "execution_count": 4,
   "metadata": {},
   "outputs": [
    {
     "name": "stdout",
     "output_type": "stream",
     "text": [
      "_________________________________________________________________\n",
      "Layer (type)                 Output Shape              Param #   \n",
      "=================================================================\n",
      "input_1 (InputLayer)         (None, 150, 150, 3)       0         \n",
      "_________________________________________________________________\n",
      "block1_conv1 (Conv2D)        (None, 150, 150, 64)      1792      \n",
      "_________________________________________________________________\n",
      "block1_conv2 (Conv2D)        (None, 150, 150, 64)      36928     \n",
      "_________________________________________________________________\n",
      "block1_pool (MaxPooling2D)   (None, 75, 75, 64)        0         \n",
      "_________________________________________________________________\n",
      "block2_conv1 (Conv2D)        (None, 75, 75, 128)       73856     \n",
      "_________________________________________________________________\n",
      "block2_conv2 (Conv2D)        (None, 75, 75, 128)       147584    \n",
      "_________________________________________________________________\n",
      "block2_pool (MaxPooling2D)   (None, 37, 37, 128)       0         \n",
      "_________________________________________________________________\n",
      "block3_conv1 (Conv2D)        (None, 37, 37, 256)       295168    \n",
      "_________________________________________________________________\n",
      "block3_conv2 (Conv2D)        (None, 37, 37, 256)       590080    \n",
      "_________________________________________________________________\n",
      "block3_conv3 (Conv2D)        (None, 37, 37, 256)       590080    \n",
      "_________________________________________________________________\n",
      "block3_pool (MaxPooling2D)   (None, 18, 18, 256)       0         \n",
      "_________________________________________________________________\n",
      "block4_conv1 (Conv2D)        (None, 18, 18, 512)       1180160   \n",
      "_________________________________________________________________\n",
      "block4_conv2 (Conv2D)        (None, 18, 18, 512)       2359808   \n",
      "_________________________________________________________________\n",
      "block4_conv3 (Conv2D)        (None, 18, 18, 512)       2359808   \n",
      "_________________________________________________________________\n",
      "block4_pool (MaxPooling2D)   (None, 9, 9, 512)         0         \n",
      "_________________________________________________________________\n",
      "block5_conv1 (Conv2D)        (None, 9, 9, 512)         2359808   \n",
      "_________________________________________________________________\n",
      "block5_conv2 (Conv2D)        (None, 9, 9, 512)         2359808   \n",
      "_________________________________________________________________\n",
      "block5_conv3 (Conv2D)        (None, 9, 9, 512)         2359808   \n",
      "_________________________________________________________________\n",
      "block5_pool (MaxPooling2D)   (None, 4, 4, 512)         0         \n",
      "=================================================================\n",
      "Total params: 14,714,688\n",
      "Trainable params: 14,714,688\n",
      "Non-trainable params: 0\n",
      "_________________________________________________________________\n"
     ]
    }
   ],
   "source": [
    "conv_base.summary()"
   ]
  },
  {
   "cell_type": "code",
   "execution_count": 5,
   "metadata": {},
   "outputs": [],
   "source": [
    "# 学習済みの畳み込みベースを使って特徴量を抽出\n",
    "import os\n",
    "import numpy as np\n",
    "from keras.preprocessing.image import ImageDataGenerator\n",
    "\n",
    "base_dir = '../dogs-vs-cats-small'\n",
    "\n",
    "train_dir = os.path.join(base_dir, 'train')\n",
    "validation_dir = os.path.join(base_dir, 'validation')\n",
    "test_dir = os.path.join(base_dir, 'test')"
   ]
  },
  {
   "cell_type": "code",
   "execution_count": 7,
   "metadata": {},
   "outputs": [],
   "source": [
    "datagen = ImageDataGenerator(rescale=1./255)\n",
    "batch_size = 20\n",
    "\n",
    "def extract_features(directory, sample_count):\n",
    "    features = np.zeros(shape=(sample_count, 4, 4, 512))\n",
    "    labels = np.zeros(shape=(sample_count))\n",
    "    generator = datagen.flow_from_directory(directory,\n",
    "                                           target_size=(150, 150),\n",
    "                                           batch_size=batch_size,\n",
    "                                           class_mode='binary')\n",
    "    i = 0\n",
    "    for inputs_batch, labels_batch in generator:\n",
    "        features_batch = conv_base.predict(inputs_batch)\n",
    "        features[i * batch_size : (i + 1) * batch_size] = features_batch\n",
    "        labels[i * batch_size : (i + 1) * batch_size] = labels_batch\n",
    "        i += 1\n",
    "        if i * batch_size >= sample_count:\n",
    "            ##\n",
    "            break\n",
    "            \n",
    "    return features, labels"
   ]
  },
  {
   "cell_type": "code",
   "execution_count": 8,
   "metadata": {},
   "outputs": [
    {
     "name": "stdout",
     "output_type": "stream",
     "text": [
      "Found 2000 images belonging to 2 classes.\n",
      "Found 1000 images belonging to 2 classes.\n",
      "Found 1000 images belonging to 2 classes.\n"
     ]
    }
   ],
   "source": [
    "train_features, train_labels = extract_features(train_dir, 2000)\n",
    "validation_features, validation_labels = extract_features(validation_dir, 1000)\n",
    "test_features, test_labels = extract_features(test_dir, 1000)"
   ]
  },
  {
   "cell_type": "code",
   "execution_count": 9,
   "metadata": {},
   "outputs": [],
   "source": [
    "train_features = np.reshape(train_features, (2000, 4 * 4 * 512))\n",
    "validation_features = np.reshape(validation_features, (1000, 4 * 4 * 512))\n",
    "test_features = np.reshape(test_features, (1000, 4 * 4 * 512))"
   ]
  },
  {
   "cell_type": "code",
   "execution_count": 13,
   "metadata": {},
   "outputs": [
    {
     "name": "stdout",
     "output_type": "stream",
     "text": [
      "Train on 2000 samples, validate on 1000 samples\n",
      "Epoch 1/30\n",
      "2000/2000 [==============================] - 11s 5ms/step - loss: 0.6620 - acc: 0.6155 - val_loss: 0.5377 - val_acc: 0.7840\n",
      "Epoch 2/30\n",
      "2000/2000 [==============================] - 10s 5ms/step - loss: 0.5354 - acc: 0.7320 - val_loss: 0.4580 - val_acc: 0.8330acc:  - ET - ETA: 1s - loss: 0.5412\n",
      "Epoch 3/30\n",
      "2000/2000 [==============================] - 10s 5ms/step - loss: 0.4590 - acc: 0.7885 - val_loss: 0.4079 - val_acc: 0.8540\n",
      "Epoch 4/30\n",
      "2000/2000 [==============================] - 10s 5ms/step - loss: 0.4068 - acc: 0.8220 - val_loss: 0.3721 - val_acc: 0.8600\n",
      "Epoch 5/30\n",
      "2000/2000 [==============================] - 10s 5ms/step - loss: 0.3642 - acc: 0.8465 - val_loss: 0.3479 - val_acc: 0.8730\n",
      "Epoch 6/30\n",
      "2000/2000 [==============================] - 10s 5ms/step - loss: 0.3400 - acc: 0.8650 - val_loss: 0.3310 - val_acc: 0.8710\n",
      "Epoch 7/30\n",
      "2000/2000 [==============================] - 10s 5ms/step - loss: 0.3189 - acc: 0.8730 - val_loss: 0.3243 - val_acc: 0.8680\n",
      "Epoch 8/30\n",
      "2000/2000 [==============================] - 10s 5ms/step - loss: 0.3038 - acc: 0.8715 - val_loss: 0.3099 - val_acc: 0.8750\n",
      "Epoch 9/30\n",
      "2000/2000 [==============================] - 10s 5ms/step - loss: 0.2879 - acc: 0.8835 - val_loss: 0.2981 - val_acc: 0.8820\n",
      "Epoch 10/30\n",
      "2000/2000 [==============================] - 10s 5ms/step - loss: 0.2771 - acc: 0.8930 - val_loss: 0.2944 - val_acc: 0.8800\n",
      "Epoch 11/30\n",
      "2000/2000 [==============================] - 10s 5ms/step - loss: 0.2712 - acc: 0.8945 - val_loss: 0.2853 - val_acc: 0.8840\n",
      "Epoch 12/30\n",
      "2000/2000 [==============================] - 10s 5ms/step - loss: 0.2551 - acc: 0.8965 - val_loss: 0.2792 - val_acc: 0.8880\n",
      "Epoch 13/30\n",
      "2000/2000 [==============================] - 10s 5ms/step - loss: 0.2445 - acc: 0.9060 - val_loss: 0.2732 - val_acc: 0.8920\n",
      "Epoch 14/30\n",
      "2000/2000 [==============================] - 10s 5ms/step - loss: 0.2390 - acc: 0.9100 - val_loss: 0.2709 - val_acc: 0.8900\n",
      "Epoch 15/30\n",
      "2000/2000 [==============================] - 10s 5ms/step - loss: 0.2251 - acc: 0.9185 - val_loss: 0.2675 - val_acc: 0.8910\n",
      "Epoch 16/30\n",
      "2000/2000 [==============================] - 10s 5ms/step - loss: 0.2288 - acc: 0.9135 - val_loss: 0.2652 - val_acc: 0.8910\n",
      "Epoch 17/30\n",
      "2000/2000 [==============================] - 10s 5ms/step - loss: 0.2197 - acc: 0.9180 - val_loss: 0.2618 - val_acc: 0.8930\n",
      "Epoch 18/30\n",
      "2000/2000 [==============================] - 10s 5ms/step - loss: 0.2093 - acc: 0.9205 - val_loss: 0.2611 - val_acc: 0.8920\n",
      "Epoch 19/30\n",
      "2000/2000 [==============================] - 10s 5ms/step - loss: 0.2113 - acc: 0.9165 - val_loss: 0.2605 - val_acc: 0.8920\n",
      "Epoch 20/30\n",
      "2000/2000 [==============================] - 10s 5ms/step - loss: 0.1996 - acc: 0.9250 - val_loss: 0.2578 - val_acc: 0.8940\n",
      "Epoch 21/30\n",
      "2000/2000 [==============================] - 10s 5ms/step - loss: 0.2019 - acc: 0.9255 - val_loss: 0.2537 - val_acc: 0.8970\n",
      "Epoch 22/30\n",
      "2000/2000 [==============================] - 10s 5ms/step - loss: 0.1930 - acc: 0.9305 - val_loss: 0.2520 - val_acc: 0.9000\n",
      "Epoch 23/30\n",
      "2000/2000 [==============================] - 10s 5ms/step - loss: 0.1886 - acc: 0.9255 - val_loss: 0.2559 - val_acc: 0.8940\n",
      "Epoch 24/30\n",
      "2000/2000 [==============================] - 10s 5ms/step - loss: 0.1829 - acc: 0.9280 - val_loss: 0.2513 - val_acc: 0.8960\n",
      "Epoch 25/30\n",
      "2000/2000 [==============================] - 10s 5ms/step - loss: 0.1819 - acc: 0.9370 - val_loss: 0.2482 - val_acc: 0.9040\n",
      "Epoch 26/30\n",
      "2000/2000 [==============================] - 10s 5ms/step - loss: 0.1744 - acc: 0.9415 - val_loss: 0.2481 - val_acc: 0.9000\n",
      "Epoch 27/30\n",
      "2000/2000 [==============================] - 10s 5ms/step - loss: 0.1718 - acc: 0.9320 - val_loss: 0.2461 - val_acc: 0.9040\n",
      "Epoch 28/30\n",
      "2000/2000 [==============================] - 10s 5ms/step - loss: 0.1646 - acc: 0.9450 - val_loss: 0.2459 - val_acc: 0.9030\n",
      "Epoch 29/30\n",
      "2000/2000 [==============================] - 10s 5ms/step - loss: 0.1640 - acc: 0.9420 - val_loss: 0.2440 - val_acc: 0.9040\n",
      "Epoch 30/30\n",
      "2000/2000 [==============================] - 10s 5ms/step - loss: 0.1575 - acc: 0.9470 - val_loss: 0.2449 - val_acc: 0.9010\n"
     ]
    }
   ],
   "source": [
    "# 全結合分類器の定義と訓練\n",
    "from keras import layers\n",
    "from keras import models\n",
    "from keras import optimizers\n",
    "\n",
    "model = models.Sequential()\n",
    "model.add(layers.Dense(256, activation='relu', input_dim=4 * 4 * 512))\n",
    "model.add(layers.Dropout(0.5)) \n",
    "model.add(layers.Dense(1, activation='sigmoid'))\n",
    "\n",
    "model.compile(loss='binary_crossentropy',\n",
    "             optimizer=optimizers.RMSprop(lr=1e-5),\n",
    "             metrics=['acc'])\n",
    "\n",
    "history = model.fit(\n",
    "      train_features, train_labels,\n",
    "      epochs=30,\n",
    "      batch_size=20,\n",
    "      validation_data=(validation_features, validation_labels))"
   ]
  },
  {
   "cell_type": "code",
   "execution_count": 15,
   "metadata": {},
   "outputs": [
    {
     "data": {
      "image/png": "[encoded data removed]",
      "text/plain": [
       "<Figure size 432x288 with 1 Axes>"
      ]
     },
     "metadata": {},
     "output_type": "display_data"
    },
    {
     "data": {
      "image/png": "[encoded data removed]",
      "text/plain": [
       "<Figure size 432x288 with 1 Axes>"
      ]
     },
     "metadata": {},
     "output_type": "display_data"
    }
   ],
   "source": [
    "# 訓練時の損失値と正解率をプロット\n",
    "import matplotlib.pyplot as plt\n",
    "\n",
    "acc = history.history['acc']\n",
    "val_acc = history.history['val_acc']\n",
    "loss = history.history['loss']\n",
    "val_loss = history.history['val_loss']\n",
    "\n",
    "epochs = range(1, len(acc) + 1)\n",
    "\n",
    "# 正解率\n",
    "plt.plot(epochs, acc, 'bo', label='Training acc')\n",
    "plt.plot(epochs, val_acc, 'b', label='Valodation acc')\n",
    "plt.title('Training and validation accuracy')\n",
    "plt.legend()\n",
    "\n",
    "plt.figure()\n",
    "\n",
    "# 損失値\n",
    "plt.plot(epochs, loss, 'bo', label='Training loss')\n",
    "plt.plot(epochs, val_loss, 'b', label='Valodation loss')\n",
    "plt.title('Training and validation loss')\n",
    "plt.legend()\n",
    "\n",
    "\n",
    "plt.show()"
   ]
  },
  {
   "cell_type": "markdown",
   "metadata": {},
   "source": [
    "## データ拡張を行う特徴抽出"
   ]
  },
  {
   "cell_type": "code",
   "execution_count": 16,
   "metadata": {},
   "outputs": [],
   "source": []
  },
  {
   "cell_type": "markdown",
   "metadata": {},
   "source": [
    "## ファインチューニング"
   ]
  },
  {
   "cell_type": "code",
   "execution_count": null,
   "metadata": {},
   "outputs": [],
   "source": []
  }
 ],
 "metadata": {
  "kernelspec": {
   "display_name": "Python 3",
   "language": "python",
   "name": "python3"
  },
  "language_info": {
   "codemirror_mode": {
    "name": "ipython",
    "version": 3
   },
   "file_extension": ".py",
   "mimetype": "text/x-python",
   "name": "python",
   "nbconvert_exporter": "python",
   "pygments_lexer": "ipython3",
   "version": "3.6.6"
  }
 },
 "nbformat": 4,
 "nbformat_minor": 2
}
